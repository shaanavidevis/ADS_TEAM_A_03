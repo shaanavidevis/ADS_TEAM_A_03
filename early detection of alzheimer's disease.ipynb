{
 "cells": [
  {
   "cell_type": "code",
   "execution_count": 1,
   "id": "f7e73651",
   "metadata": {},
   "outputs": [
    {
     "name": "stdout",
     "output_type": "stream",
     "text": [
      "Requirement already satisfied: fastai in c:\\users\\student.mcc\\appdata\\roaming\\python\\python39\\site-packages (2.7.13)\n",
      "Requirement already satisfied: scikit-learn in c:\\programdata\\anaconda3\\lib\\site-packages (from fastai) (0.24.2)\n",
      "Requirement already satisfied: torchvision>=0.11 in c:\\users\\student.mcc\\appdata\\roaming\\python\\python39\\site-packages (from fastai) (0.16.1)\n",
      "Requirement already satisfied: spacy<4 in c:\\users\\student.mcc\\appdata\\roaming\\python\\python39\\site-packages (from fastai) (3.7.2)\n",
      "Requirement already satisfied: packaging in c:\\programdata\\anaconda3\\lib\\site-packages (from fastai) (21.0)\n",
      "Requirement already satisfied: scipy in c:\\programdata\\anaconda3\\lib\\site-packages (from fastai) (1.7.1)\n",
      "Requirement already satisfied: fastcore<1.6,>=1.5.29 in c:\\users\\student.mcc\\appdata\\roaming\\python\\python39\\site-packages (from fastai) (1.5.29)\n",
      "Requirement already satisfied: pip in c:\\programdata\\anaconda3\\lib\\site-packages (from fastai) (21.2.4)\n",
      "Requirement already satisfied: fastdownload<2,>=0.0.5 in c:\\users\\student.mcc\\appdata\\roaming\\python\\python39\\site-packages (from fastai) (0.0.7)\n",
      "Requirement already satisfied: matplotlib in c:\\programdata\\anaconda3\\lib\\site-packages (from fastai) (3.4.3)\n",
      "Requirement already satisfied: requests in c:\\programdata\\anaconda3\\lib\\site-packages (from fastai) (2.26.0)\n",
      "Requirement already satisfied: pyyaml in c:\\programdata\\anaconda3\\lib\\site-packages (from fastai) (6.0)\n",
      "Requirement already satisfied: torch<2.2,>=1.10 in c:\\users\\student.mcc\\appdata\\roaming\\python\\python39\\site-packages (from fastai) (2.1.1)\n",
      "Requirement already satisfied: pillow>=9.0.0 in c:\\users\\student.mcc\\appdata\\roaming\\python\\python39\\site-packages (from fastai) (10.1.0)\n",
      "Requirement already satisfied: pandas in c:\\programdata\\anaconda3\\lib\\site-packages (from fastai) (1.3.4)\n",
      "Requirement already satisfied: fastprogress>=0.2.4 in c:\\users\\student.mcc\\appdata\\roaming\\python\\python39\\site-packages (from fastai) (1.0.3)\n",
      "Requirement already satisfied: cymem<2.1.0,>=2.0.2 in c:\\users\\student.mcc\\appdata\\roaming\\python\\python39\\site-packages (from spacy<4->fastai) (2.0.8)\n",
      "Requirement already satisfied: setuptools in c:\\programdata\\anaconda3\\lib\\site-packages (from spacy<4->fastai) (58.0.4)\n",
      "Requirement already satisfied: pydantic!=1.8,!=1.8.1,<3.0.0,>=1.7.4 in c:\\users\\student.mcc\\appdata\\roaming\\python\\python39\\site-packages (from spacy<4->fastai) (2.5.1)\n",
      "Requirement already satisfied: smart-open<7.0.0,>=5.2.1 in c:\\users\\student.mcc\\appdata\\roaming\\python\\python39\\site-packages (from spacy<4->fastai) (6.4.0)\n",
      "Requirement already satisfied: jinja2 in c:\\programdata\\anaconda3\\lib\\site-packages (from spacy<4->fastai) (2.11.3)\n",
      "Requirement already satisfied: typer<0.10.0,>=0.3.0 in c:\\users\\student.mcc\\appdata\\roaming\\python\\python39\\site-packages (from spacy<4->fastai) (0.9.0)\n",
      "Requirement already satisfied: weasel<0.4.0,>=0.1.0 in c:\\users\\student.mcc\\appdata\\roaming\\python\\python39\\site-packages (from spacy<4->fastai) (0.3.4)\n",
      "Requirement already satisfied: thinc<8.3.0,>=8.1.8 in c:\\users\\student.mcc\\appdata\\roaming\\python\\python39\\site-packages (from spacy<4->fastai) (8.2.1)\n",
      "Requirement already satisfied: numpy>=1.19.0 in c:\\programdata\\anaconda3\\lib\\site-packages (from spacy<4->fastai) (1.20.3)\n",
      "Requirement already satisfied: spacy-legacy<3.1.0,>=3.0.11 in c:\\users\\student.mcc\\appdata\\roaming\\python\\python39\\site-packages (from spacy<4->fastai) (3.0.12)\n",
      "Requirement already satisfied: srsly<3.0.0,>=2.4.3 in c:\\users\\student.mcc\\appdata\\roaming\\python\\python39\\site-packages (from spacy<4->fastai) (2.4.8)\n",
      "Requirement already satisfied: murmurhash<1.1.0,>=0.28.0 in c:\\users\\student.mcc\\appdata\\roaming\\python\\python39\\site-packages (from spacy<4->fastai) (1.0.10)\n",
      "Requirement already satisfied: tqdm<5.0.0,>=4.38.0 in c:\\programdata\\anaconda3\\lib\\site-packages (from spacy<4->fastai) (4.62.3)\n",
      "Requirement already satisfied: catalogue<2.1.0,>=2.0.6 in c:\\users\\student.mcc\\appdata\\roaming\\python\\python39\\site-packages (from spacy<4->fastai) (2.0.10)\n",
      "Requirement already satisfied: wasabi<1.2.0,>=0.9.1 in c:\\users\\student.mcc\\appdata\\roaming\\python\\python39\\site-packages (from spacy<4->fastai) (1.1.2)\n",
      "Requirement already satisfied: langcodes<4.0.0,>=3.2.0 in c:\\users\\student.mcc\\appdata\\roaming\\python\\python39\\site-packages (from spacy<4->fastai) (3.3.0)\n",
      "Requirement already satisfied: preshed<3.1.0,>=3.0.2 in c:\\users\\student.mcc\\appdata\\roaming\\python\\python39\\site-packages (from spacy<4->fastai) (3.0.9)\n",
      "Requirement already satisfied: spacy-loggers<2.0.0,>=1.0.0 in c:\\users\\student.mcc\\appdata\\roaming\\python\\python39\\site-packages (from spacy<4->fastai) (1.0.5)\n",
      "Requirement already satisfied: pyparsing>=2.0.2 in c:\\programdata\\anaconda3\\lib\\site-packages (from packaging->fastai) (3.0.4)\n",
      "Requirement already satisfied: pydantic-core==2.14.3 in c:\\users\\student.mcc\\appdata\\roaming\\python\\python39\\site-packages (from pydantic!=1.8,!=1.8.1,<3.0.0,>=1.7.4->spacy<4->fastai) (2.14.3)\n",
      "Requirement already satisfied: annotated-types>=0.4.0 in c:\\users\\student.mcc\\appdata\\roaming\\python\\python39\\site-packages (from pydantic!=1.8,!=1.8.1,<3.0.0,>=1.7.4->spacy<4->fastai) (0.6.0)\n",
      "Requirement already satisfied: typing-extensions>=4.6.1 in c:\\users\\student.mcc\\appdata\\roaming\\python\\python39\\site-packages (from pydantic!=1.8,!=1.8.1,<3.0.0,>=1.7.4->spacy<4->fastai) (4.8.0)\n",
      "Requirement already satisfied: urllib3<1.27,>=1.21.1 in c:\\programdata\\anaconda3\\lib\\site-packages (from requests->fastai) (1.26.7)\n",
      "Requirement already satisfied: charset-normalizer~=2.0.0 in c:\\programdata\\anaconda3\\lib\\site-packages (from requests->fastai) (2.0.4)\n",
      "Requirement already satisfied: idna<4,>=2.5 in c:\\programdata\\anaconda3\\lib\\site-packages (from requests->fastai) (3.2)\n",
      "Requirement already satisfied: certifi>=2017.4.17 in c:\\programdata\\anaconda3\\lib\\site-packages (from requests->fastai) (2021.10.8)\n",
      "Requirement already satisfied: confection<1.0.0,>=0.0.1 in c:\\users\\student.mcc\\appdata\\roaming\\python\\python39\\site-packages (from thinc<8.3.0,>=8.1.8->spacy<4->fastai) (0.1.3)\n",
      "Requirement already satisfied: blis<0.8.0,>=0.7.8 in c:\\users\\student.mcc\\appdata\\roaming\\python\\python39\\site-packages (from thinc<8.3.0,>=8.1.8->spacy<4->fastai) (0.7.11)\n",
      "Requirement already satisfied: sympy in c:\\programdata\\anaconda3\\lib\\site-packages (from torch<2.2,>=1.10->fastai) (1.9)\n",
      "Requirement already satisfied: fsspec in c:\\programdata\\anaconda3\\lib\\site-packages (from torch<2.2,>=1.10->fastai) (2021.10.1)\n",
      "Requirement already satisfied: filelock in c:\\programdata\\anaconda3\\lib\\site-packages (from torch<2.2,>=1.10->fastai) (3.3.1)\n",
      "Requirement already satisfied: networkx in c:\\programdata\\anaconda3\\lib\\site-packages (from torch<2.2,>=1.10->fastai) (2.6.3)\n",
      "Requirement already satisfied: colorama in c:\\users\\student.mcc\\appdata\\roaming\\python\\python39\\site-packages (from tqdm<5.0.0,>=4.38.0->spacy<4->fastai) (0.4.6)\n",
      "Requirement already satisfied: click<9.0.0,>=7.1.1 in c:\\programdata\\anaconda3\\lib\\site-packages (from typer<0.10.0,>=0.3.0->spacy<4->fastai) (8.0.3)\n",
      "Requirement already satisfied: cloudpathlib<0.17.0,>=0.7.0 in c:\\users\\student.mcc\\appdata\\roaming\\python\\python39\\site-packages (from weasel<0.4.0,>=0.1.0->spacy<4->fastai) (0.16.0)\n",
      "Requirement already satisfied: MarkupSafe>=0.23 in c:\\programdata\\anaconda3\\lib\\site-packages (from jinja2->spacy<4->fastai) (1.1.1)\n",
      "Requirement already satisfied: kiwisolver>=1.0.1 in c:\\programdata\\anaconda3\\lib\\site-packages (from matplotlib->fastai) (1.3.1)\n",
      "Requirement already satisfied: cycler>=0.10 in c:\\programdata\\anaconda3\\lib\\site-packages (from matplotlib->fastai) (0.10.0)\n",
      "Requirement already satisfied: python-dateutil>=2.7 in c:\\programdata\\anaconda3\\lib\\site-packages (from matplotlib->fastai) (2.8.2)\n",
      "Requirement already satisfied: six in c:\\programdata\\anaconda3\\lib\\site-packages (from cycler>=0.10->matplotlib->fastai) (1.16.0)\n",
      "Requirement already satisfied: pytz>=2017.3 in c:\\programdata\\anaconda3\\lib\\site-packages (from pandas->fastai) (2021.3)\n",
      "Requirement already satisfied: joblib>=0.11 in c:\\programdata\\anaconda3\\lib\\site-packages (from scikit-learn->fastai) (1.1.0)\n",
      "Requirement already satisfied: threadpoolctl>=2.0.0 in c:\\programdata\\anaconda3\\lib\\site-packages (from scikit-learn->fastai) (2.2.0)\n",
      "Requirement already satisfied: mpmath>=0.19 in c:\\programdata\\anaconda3\\lib\\site-packages (from sympy->torch<2.2,>=1.10->fastai) (1.2.1)\n"
     ]
    }
   ],
   "source": [
    "!pip install fastai --user"
   ]
  },
  {
   "cell_type": "code",
   "execution_count": 2,
   "id": "9b925a50",
   "metadata": {},
   "outputs": [
    {
     "name": "stdout",
     "output_type": "stream",
     "text": [
      "^C\n",
      "\n",
      "Note: you may need to restart the kernel to use updated packages.\n"
     ]
    }
   ],
   "source": [
    "conda install -c fastai fastai"
   ]
  },
  {
   "cell_type": "code",
   "execution_count": 1,
   "id": "23360144",
   "metadata": {},
   "outputs": [],
   "source": [
    "import numpy as np\n",
    "import pandas as pd\n",
    "import os\n",
    "%reload_ext autoreload\n",
    "%autoreload 2\n",
    "%matplotlib inline\n",
    "from fastai import *\n",
    "from fastai.vision import *\n"
   ]
  },
  {
   "cell_type": "code",
   "execution_count": 2,
   "id": "c8ac11fe",
   "metadata": {},
   "outputs": [
    {
     "name": "stdout",
     "output_type": "stream",
     "text": [
      "The version of FastAI being used is: 2.7.13\n"
     ]
    }
   ],
   "source": [
    "import fastai\n",
    "print('The version of FastAI being used is:',fastai.__version__)\n"
   ]
  },
  {
   "cell_type": "code",
   "execution_count": 3,
   "id": "bfb9a50f",
   "metadata": {},
   "outputs": [
    {
     "name": "stdout",
     "output_type": "stream",
     "text": [
      "Requirement already satisfied: pillow in c:\\users\\student.mcc\\appdata\\roaming\\python\\python39\\site-packages (10.1.0)\n",
      "Note: you may need to restart the kernel to use updated packages.\n"
     ]
    }
   ],
   "source": [
    "pip install pillow"
   ]
  },
  {
   "cell_type": "code",
   "execution_count": 4,
   "id": "2064bf9e",
   "metadata": {
    "scrolled": true
   },
   "outputs": [
    {
     "name": "stdout",
     "output_type": "stream",
     "text": [
      "Mild Demented - Image width: 176, Image height: 208\n",
      "Moderate Demented - Image width: 176, Image height: 208\n",
      "Non Demented - Image width: 176, Image height: 208\n",
      "Very Mild Demented - Image width: 176, Image height: 208\n"
     ]
    }
   ],
   "source": [
    "from PIL import Image\n",
    "mild_demented = Image.open(r'C:\\Users\\student.MCC\\Desktop\\mildDemented.jpg')\n",
    "moderate_demented = Image.open(r'C:\\Users\\student.MCC\\Desktop\\moderateDem0.jpg')\n",
    "non_demented = Image.open(r'C:\\Users\\student.MCC\\Desktop\\nonDem0.jpg')\n",
    "very_mild = Image.open(r'C:\\Users\\student.MCC\\Desktop\\verymildDem0.jpg')\n",
    "width_md, height_md = mild_demented.size\n",
    "width_mod, height_mod = moderate_demented.size\n",
    "width_non, height_non = non_demented.size\n",
    "width_vmd, height_vmd = very_mild.size\n",
    "print(f\"Mild Demented - Image width: {width_md}, Image height: {height_md}\")\n",
    "print(f\"Moderate Demented - Image width: {width_mod}, Image height: {height_mod}\")\n",
    "print(f\"Non Demented - Image width: {width_non}, Image height: {height_non}\")\n",
    "print(f\"Very Mild Demented - Image width: {width_vmd}, Image height: {height_vmd}\")\n"
   ]
  },
  {
   "cell_type": "code",
   "execution_count": 5,
   "id": "99b7f37a",
   "metadata": {},
   "outputs": [
    {
     "name": "stdout",
     "output_type": "stream",
     "text": [
      "Image Format: JPEG\n",
      "Image Format: JPEG\n",
      "Image Format: JPEG\n",
      "Image Format: JPEG\n",
      "Image Size: (176, 208)\n",
      "Image Size: (176, 208)\n",
      "Image Size: (176, 208)\n",
      "Image Size: (176, 208)\n"
     ]
    }
   ],
   "source": [
    "from PIL import Image\n",
    "\n",
    "mild_demented = Image.open(r'C:\\Users\\student.MCC\\Desktop\\mildDemented.jpg')\n",
    "moderate_demented = Image.open(r'C:\\Users\\student.MCC\\Desktop\\moderateDem0.jpg')\n",
    "non_demented = Image.open(r'C:\\Users\\student.MCC\\Desktop\\nonDem0.jpg')\n",
    "very_mild = Image.open(r'C:\\Users\\student.MCC\\Desktop\\verymildDem0.jpg')\n",
    "\n",
    "print(\"Image Format:\", mild_demented.format)\n",
    "print(\"Image Format:\", moderate_demented.format)\n",
    "print(\"Image Format:\", non_demented.format)\n",
    "print(\"Image Format:\", very_mild.format)\n",
    "print(\"Image Size:\", mild_demented.size)\n",
    "print(\"Image Size:\", moderate_demented.size)\n",
    "print(\"Image Size:\", non_demented.size)\n",
    "print(\"Image Size:\", very_mild.size)\n"
   ]
  },
  {
   "cell_type": "code",
   "execution_count": 6,
   "id": "0cc669b2",
   "metadata": {},
   "outputs": [],
   "source": [
    "mild_demented.show()\n",
    "moderate_demented.show()\n",
    "non_demented.show()\n",
    "very_mild.show()\n"
   ]
  },
  {
   "cell_type": "code",
   "execution_count": 7,
   "id": "dc6bdd40",
   "metadata": {},
   "outputs": [],
   "source": [
    "mild_demented.close()\n",
    "moderate_demented.close()\n",
    "non_demented.close()\n",
    "very_mild.close()\n",
    "\n"
   ]
  },
  {
   "cell_type": "code",
   "execution_count": 8,
   "id": "37f61179",
   "metadata": {},
   "outputs": [],
   "source": [
    "import pandas as pd\n",
    "import numpy as np\n",
    "import seaborn as sns\n",
    "import matplotlib.pyplot as plt\n",
    "%matplotlib inline\n",
    "\n",
    "sns.set()\n"
   ]
  },
  {
   "cell_type": "code",
   "execution_count": 9,
   "id": "08bcb6d7",
   "metadata": {},
   "outputs": [
    {
     "data": {
      "text/html": [
       "<div>\n",
       "<style scoped>\n",
       "    .dataframe tbody tr th:only-of-type {\n",
       "        vertical-align: middle;\n",
       "    }\n",
       "\n",
       "    .dataframe tbody tr th {\n",
       "        vertical-align: top;\n",
       "    }\n",
       "\n",
       "    .dataframe thead th {\n",
       "        text-align: right;\n",
       "    }\n",
       "</style>\n",
       "<table border=\"1\" class=\"dataframe\">\n",
       "  <thead>\n",
       "    <tr style=\"text-align: right;\">\n",
       "      <th></th>\n",
       "      <th>Subject ID</th>\n",
       "      <th>MRI ID</th>\n",
       "      <th>Group</th>\n",
       "      <th>Visit</th>\n",
       "      <th>MR Delay</th>\n",
       "      <th>M/F</th>\n",
       "      <th>Hand</th>\n",
       "      <th>Age</th>\n",
       "      <th>EDUC</th>\n",
       "      <th>SES</th>\n",
       "      <th>MMSE</th>\n",
       "      <th>CDR</th>\n",
       "      <th>eTIV</th>\n",
       "      <th>nWBV</th>\n",
       "      <th>ASF</th>\n",
       "    </tr>\n",
       "  </thead>\n",
       "  <tbody>\n",
       "    <tr>\n",
       "      <th>0</th>\n",
       "      <td>OAS2_0001</td>\n",
       "      <td>OAS2_0001_MR1</td>\n",
       "      <td>Nondemented</td>\n",
       "      <td>1</td>\n",
       "      <td>0</td>\n",
       "      <td>M</td>\n",
       "      <td>R</td>\n",
       "      <td>87</td>\n",
       "      <td>14</td>\n",
       "      <td>2.0</td>\n",
       "      <td>27.0</td>\n",
       "      <td>0.0</td>\n",
       "      <td>1987</td>\n",
       "      <td>0.696</td>\n",
       "      <td>0.883</td>\n",
       "    </tr>\n",
       "    <tr>\n",
       "      <th>1</th>\n",
       "      <td>OAS2_0001</td>\n",
       "      <td>OAS2_0001_MR2</td>\n",
       "      <td>Nondemented</td>\n",
       "      <td>2</td>\n",
       "      <td>457</td>\n",
       "      <td>M</td>\n",
       "      <td>R</td>\n",
       "      <td>88</td>\n",
       "      <td>14</td>\n",
       "      <td>2.0</td>\n",
       "      <td>30.0</td>\n",
       "      <td>0.0</td>\n",
       "      <td>2004</td>\n",
       "      <td>0.681</td>\n",
       "      <td>0.876</td>\n",
       "    </tr>\n",
       "    <tr>\n",
       "      <th>2</th>\n",
       "      <td>OAS2_0002</td>\n",
       "      <td>OAS2_0002_MR1</td>\n",
       "      <td>Demented</td>\n",
       "      <td>1</td>\n",
       "      <td>0</td>\n",
       "      <td>M</td>\n",
       "      <td>R</td>\n",
       "      <td>75</td>\n",
       "      <td>12</td>\n",
       "      <td>NaN</td>\n",
       "      <td>23.0</td>\n",
       "      <td>0.5</td>\n",
       "      <td>1678</td>\n",
       "      <td>0.736</td>\n",
       "      <td>1.046</td>\n",
       "    </tr>\n",
       "    <tr>\n",
       "      <th>3</th>\n",
       "      <td>OAS2_0002</td>\n",
       "      <td>OAS2_0002_MR2</td>\n",
       "      <td>Demented</td>\n",
       "      <td>2</td>\n",
       "      <td>560</td>\n",
       "      <td>M</td>\n",
       "      <td>R</td>\n",
       "      <td>76</td>\n",
       "      <td>12</td>\n",
       "      <td>NaN</td>\n",
       "      <td>28.0</td>\n",
       "      <td>0.5</td>\n",
       "      <td>1738</td>\n",
       "      <td>0.713</td>\n",
       "      <td>1.010</td>\n",
       "    </tr>\n",
       "    <tr>\n",
       "      <th>4</th>\n",
       "      <td>OAS2_0002</td>\n",
       "      <td>OAS2_0002_MR3</td>\n",
       "      <td>Demented</td>\n",
       "      <td>3</td>\n",
       "      <td>1895</td>\n",
       "      <td>M</td>\n",
       "      <td>R</td>\n",
       "      <td>80</td>\n",
       "      <td>12</td>\n",
       "      <td>NaN</td>\n",
       "      <td>22.0</td>\n",
       "      <td>0.5</td>\n",
       "      <td>1698</td>\n",
       "      <td>0.701</td>\n",
       "      <td>1.034</td>\n",
       "    </tr>\n",
       "  </tbody>\n",
       "</table>\n",
       "</div>"
      ],
      "text/plain": [
       "  Subject ID         MRI ID        Group  Visit  MR Delay M/F Hand  Age  EDUC  \\\n",
       "0  OAS2_0001  OAS2_0001_MR1  Nondemented      1         0   M    R   87    14   \n",
       "1  OAS2_0001  OAS2_0001_MR2  Nondemented      2       457   M    R   88    14   \n",
       "2  OAS2_0002  OAS2_0002_MR1     Demented      1         0   M    R   75    12   \n",
       "3  OAS2_0002  OAS2_0002_MR2     Demented      2       560   M    R   76    12   \n",
       "4  OAS2_0002  OAS2_0002_MR3     Demented      3      1895   M    R   80    12   \n",
       "\n",
       "   SES  MMSE  CDR  eTIV   nWBV    ASF  \n",
       "0  2.0  27.0  0.0  1987  0.696  0.883  \n",
       "1  2.0  30.0  0.0  2004  0.681  0.876  \n",
       "2  NaN  23.0  0.5  1678  0.736  1.046  \n",
       "3  NaN  28.0  0.5  1738  0.713  1.010  \n",
       "4  NaN  22.0  0.5  1698  0.701  1.034  "
      ]
     },
     "execution_count": 9,
     "metadata": {},
     "output_type": "execute_result"
    }
   ],
   "source": [
    "df = pd.read_csv(r'C:\\Users\\student.MCC\\Downloads\\oasis_longitudinal.csv')\n",
    "df.head()\n"
   ]
  },
  {
   "cell_type": "code",
   "execution_count": 10,
   "id": "34fdbf4b",
   "metadata": {},
   "outputs": [],
   "source": [
    "import os\n",
    "import pandas as pd\n",
    "\n",
    "image_directory = r'C:\\Users\\student.MCC\\Desktop\\mildDemented.jpg'\n",
    "image_directory1 = r'C:\\Users\\student.MCC\\Desktop\\moderateDem0.jpg'\n",
    "image_directory2 = r'C:\\Users\\student.MCC\\Desktop\\nonDem0.jpg'\n",
    "image_directory3 = r'C:\\Users\\student.MCC\\Desktop\\verymildDem0.jpg'\n"
   ]
  },
  {
   "cell_type": "code",
   "execution_count": 11,
   "id": "37847b3a",
   "metadata": {},
   "outputs": [],
   "source": [
    "image_paths = []\n",
    "labels = []\n"
   ]
  },
  {
   "cell_type": "code",
   "execution_count": 12,
   "id": "13fe18a8",
   "metadata": {},
   "outputs": [],
   "source": [
    "def get_label(directory):\n",
    "    if 'MildDemented' in directory:\n",
    "        return 0\n",
    "    elif 'ModerateDemented' in directory:\n",
    "        return 1\n",
    "    elif 'NonDemented' in directory:\n",
    "        return 0\n",
    "    elif 'VeryMildDemented' in directory:\n",
    "        return 1\n",
    "    else:\n",
    "        return -1 "
   ]
  },
  {
   "cell_type": "code",
   "execution_count": 13,
   "id": "9d753219",
   "metadata": {},
   "outputs": [],
   "source": [
    "df = df.loc[df['Visit']==1] # use first visit data only because of the analysis we're doing\n",
    "df = df.reset_index(drop=True) # reset index after filtering first visit data\n",
    "df['M/F'] = df['M/F'].replace(['F','M'], [0,1]) # M/F column\n",
    "df['Group'] = df['Group'].replace(['Converted'], ['Demented']) # Target variable\n",
    "df['Group'] = df['Group'].replace(['Demented', 'Nondemented'], [1,0]) # Target variable\n",
    "df = df.drop(['MRI ID', 'Visit', 'Hand'], axis=1)\n"
   ]
  },
  {
   "cell_type": "code",
   "execution_count": 14,
   "id": "c505f9e0",
   "metadata": {},
   "outputs": [],
   "source": [
    "def bar_chart(feature):\n",
    "    Demented = df[df['Group']==1][feature].value_counts()\n",
    "    Nondemented = df[df['Group']==0][feature].value_counts()\n",
    "    df_bar = pd.DataFrame([Demented,Nondemented])\n",
    "    df_bar.index = ['Demented','Nondemented']\n",
    "    df_bar.plot(kind='bar',stacked=True, figsize=(8,5))\n"
   ]
  },
  {
   "cell_type": "code",
   "execution_count": 15,
   "id": "df61cb77",
   "metadata": {},
   "outputs": [
    {
     "data": {
      "text/plain": [
       "Text(0.5, 1.0, 'Gender and Demented rate')"
      ]
     },
     "execution_count": 15,
     "metadata": {},
     "output_type": "execute_result"
    },
    {
     "data": {
      "image/png": "[encoded data removed]",
      "text/plain": [
       "<Figure size 576x360 with 1 Axes>"
      ]
     },
     "metadata": {},
     "output_type": "display_data"
    }
   ],
   "source": [
    "bar_chart('M/F')\n",
    "plt.xlabel('Group')\n",
    "plt.ylabel('Number of patients')\n",
    "plt.legend()\n",
    "plt.title('Gender and Demented rate')\n"
   ]
  },
  {
   "cell_type": "code",
   "execution_count": 16,
   "id": "a470eb25",
   "metadata": {},
   "outputs": [
    {
     "data": {
      "text/plain": [
       "(15.3, 30.0)"
      ]
     },
     "execution_count": 16,
     "metadata": {},
     "output_type": "execute_result"
    },
    {
     "data": {
      "image/png": "[encoded data removed]",
      "text/plain": [
       "<Figure size 693.725x216 with 1 Axes>"
      ]
     },
     "metadata": {},
     "output_type": "display_data"
    }
   ],
   "source": [
    "facet= sns.FacetGrid(df,hue=\"Group\", aspect=3)\n",
    "facet.map(sns.kdeplot,'MMSE',fill= True)\n",
    "facet.set(xlim=(0, df['MMSE'].max()))\n",
    "facet.add_legend()\n",
    "plt.xlim(15.30)\n"
   ]
  },
  {
   "cell_type": "code",
   "execution_count": 17,
   "id": "4175507b",
   "metadata": {},
   "outputs": [
    {
     "data": {
      "text/plain": [
       "(0.5, 2.0)"
      ]
     },
     "execution_count": 17,
     "metadata": {},
     "output_type": "execute_result"
    },
    {
     "data": {
      "image/png": "[encoded data removed]",
      "text/plain": [
       "<Figure size 693.725x216 with 1 Axes>"
      ]
     },
     "metadata": {},
     "output_type": "display_data"
    }
   ],
   "source": [
    "facet= sns.FacetGrid(df,hue=\"Group\", aspect=3)\n",
    "facet.map(sns.kdeplot,'ASF',fill= True)\n",
    "facet.set(xlim=(0, df['ASF'].max()))\n",
    "facet.add_legend()\n",
    "plt.xlim(0.5, 2)\n"
   ]
  },
  {
   "cell_type": "code",
   "execution_count": 18,
   "id": "49564e69",
   "metadata": {},
   "outputs": [
    {
     "data": {
      "text/plain": [
       "(900.0, 2100.0)"
      ]
     },
     "execution_count": 18,
     "metadata": {},
     "output_type": "execute_result"
    },
    {
     "data": {
      "image/png": "[encoded data removed]",
      "text/plain": [
       "<Figure size 693.725x216 with 1 Axes>"
      ]
     },
     "metadata": {},
     "output_type": "display_data"
    }
   ],
   "source": [
    "\n",
    "facet= sns.FacetGrid(df,hue=\"Group\", aspect=3)\n",
    "facet.map(sns.kdeplot,'eTIV',fill= True)\n",
    "facet.set(xlim=(0, df['eTIV'].max()))\n",
    "facet.add_legend()\n",
    "plt.xlim(900, 2100)\n"
   ]
  },
  {
   "cell_type": "code",
   "execution_count": 19,
   "id": "310892a8",
   "metadata": {},
   "outputs": [
    {
     "data": {
      "text/plain": [
       "(0.6, 0.9)"
      ]
     },
     "execution_count": 19,
     "metadata": {},
     "output_type": "execute_result"
    },
    {
     "data": {
      "image/png": "[encoded data removed]",
      "text/plain": [
       "<Figure size 693.725x216 with 1 Axes>"
      ]
     },
     "metadata": {},
     "output_type": "display_data"
    }
   ],
   "source": [
    "facet= sns.FacetGrid(df,hue=\"Group\", aspect=3)\n",
    "facet.map(sns.kdeplot,'nWBV',fill= True)\n",
    "facet.set(xlim=(0, df['nWBV'].max()))\n",
    "facet.add_legend()\n",
    "plt.xlim(0.6,0.9)\n"
   ]
  },
  {
   "cell_type": "code",
   "execution_count": 20,
   "id": "c8071bde",
   "metadata": {},
   "outputs": [
    {
     "data": {
      "text/plain": [
       "(50.0, 100.0)"
      ]
     },
     "execution_count": 20,
     "metadata": {},
     "output_type": "execute_result"
    },
    {
     "data": {
      "image/png": "[encoded data removed]",
      "text/plain": [
       "<Figure size 693.725x216 with 1 Axes>"
      ]
     },
     "metadata": {},
     "output_type": "display_data"
    }
   ],
   "source": [
    "facet= sns.FacetGrid(df,hue=\"Group\", aspect=3)\n",
    "facet.map(sns.kdeplot,'Age',fill= True)\n",
    "facet.set(xlim=(0, df['Age'].max()))\n",
    "facet.add_legend()\n",
    "plt.xlim(50,100)\n"
   ]
  },
  {
   "cell_type": "code",
   "execution_count": 21,
   "id": "d53242ad",
   "metadata": {},
   "outputs": [
    {
     "data": {
      "text/plain": [
       "(0.0, 0.16)"
      ]
     },
     "execution_count": 21,
     "metadata": {},
     "output_type": "execute_result"
    },
    {
     "data": {
      "image/png": "[encoded data removed]",
      "text/plain": [
       "<Figure size 693.725x216 with 1 Axes>"
      ]
     },
     "metadata": {},
     "output_type": "display_data"
    }
   ],
   "source": [
    "facet= sns.FacetGrid(df,hue=\"Group\", aspect=3)\n",
    "facet.map(sns.kdeplot,'EDUC',fill= True)\n",
    "facet.set(xlim=(df['EDUC'].min(), df['EDUC'].max()))\n",
    "facet.add_legend()\n",
    "plt.ylim(0, 0.16)\n"
   ]
  },
  {
   "cell_type": "code",
   "execution_count": 22,
   "id": "d2902f7c",
   "metadata": {},
   "outputs": [
    {
     "data": {
      "text/plain": [
       "Subject ID    0\n",
       "Group         0\n",
       "MR Delay      0\n",
       "M/F           0\n",
       "Age           0\n",
       "EDUC          0\n",
       "SES           8\n",
       "MMSE          0\n",
       "CDR           0\n",
       "eTIV          0\n",
       "nWBV          0\n",
       "ASF           0\n",
       "dtype: int64"
      ]
     },
     "execution_count": 22,
     "metadata": {},
     "output_type": "execute_result"
    }
   ],
   "source": [
    "pd.isnull(df).sum()"
   ]
  },
  {
   "cell_type": "code",
   "execution_count": 23,
   "id": "7d49cd8b",
   "metadata": {},
   "outputs": [
    {
     "data": {
      "text/plain": [
       "Subject ID    0\n",
       "Group         0\n",
       "MR Delay      0\n",
       "M/F           0\n",
       "Age           0\n",
       "EDUC          0\n",
       "SES           0\n",
       "MMSE          0\n",
       "CDR           0\n",
       "eTIV          0\n",
       "nWBV          0\n",
       "ASF           0\n",
       "dtype: int64"
      ]
     },
     "execution_count": 23,
     "metadata": {},
     "output_type": "execute_result"
    }
   ],
   "source": [
    "df_dropna = df.dropna(axis=0, how='any')\n",
    "pd.isnull(df_dropna).sum()"
   ]
  },
  {
   "cell_type": "code",
   "execution_count": 24,
   "id": "7bc9b445",
   "metadata": {},
   "outputs": [
    {
     "data": {
      "text/plain": [
       "0    72\n",
       "1    70\n",
       "Name: Group, dtype: int64"
      ]
     },
     "execution_count": 24,
     "metadata": {},
     "output_type": "execute_result"
    }
   ],
   "source": [
    "df_dropna['Group'].value_counts()"
   ]
  },
  {
   "cell_type": "code",
   "execution_count": 25,
   "id": "98d6d203",
   "metadata": {},
   "outputs": [],
   "source": [
    "x = df['EDUC']\n",
    "y = df['SES']"
   ]
  },
  {
   "cell_type": "code",
   "execution_count": 26,
   "id": "70bc2784",
   "metadata": {},
   "outputs": [],
   "source": [
    "ses_not_null_index = y[~y.isnull()].index\n",
    "x = x[ses_not_null_index]\n",
    "y = y[ses_not_null_index]\n"
   ]
  },
  {
   "cell_type": "code",
   "execution_count": 27,
   "id": "9351ebe4",
   "metadata": {},
   "outputs": [
    {
     "data": {
      "image/png": "[encoded data removed]",
      "text/plain": [
       "<Figure size 432x288 with 1 Axes>"
      ]
     },
     "metadata": {},
     "output_type": "display_data"
    }
   ],
   "source": [
    "z = np.polyfit(x, y, 1)\n",
    "p = np.poly1d(z)\n",
    "plt.plot(x, y, 'go', x, p(x), \"r--\")\n",
    "plt.xlabel('Education Level(EDUC)')\n",
    "plt.ylabel('Social Economic Status(SES)')\n",
    "\n",
    "plt.show()\n"
   ]
  },
  {
   "cell_type": "code",
   "execution_count": 28,
   "id": "78b7095f",
   "metadata": {},
   "outputs": [
    {
     "data": {
      "text/plain": [
       "EDUC\n",
       "6     4.0\n",
       "8     5.0\n",
       "11    4.0\n",
       "12    3.0\n",
       "13    2.0\n",
       "14    3.0\n",
       "15    2.0\n",
       "16    2.0\n",
       "17    1.0\n",
       "18    2.0\n",
       "20    1.0\n",
       "23    1.0\n",
       "Name: SES, dtype: float64"
      ]
     },
     "execution_count": 28,
     "metadata": {},
     "output_type": "execute_result"
    }
   ],
   "source": [
    "df.groupby(['EDUC'])['SES'].median()\n",
    "\n"
   ]
  },
  {
   "cell_type": "code",
   "execution_count": 29,
   "id": "b179150d",
   "metadata": {},
   "outputs": [],
   "source": [
    "df[\"SES\"].fillna(df.groupby(\"EDUC\")[\"SES\"].transform(\"median\"), inplace=True)"
   ]
  },
  {
   "cell_type": "code",
   "execution_count": 30,
   "id": "fa9ae1d4",
   "metadata": {},
   "outputs": [
    {
     "data": {
      "text/plain": [
       "False    150\n",
       "Name: SES, dtype: int64"
      ]
     },
     "execution_count": 30,
     "metadata": {},
     "output_type": "execute_result"
    }
   ],
   "source": [
    "pd.isnull(df['SES']).value_counts()"
   ]
  },
  {
   "cell_type": "code",
   "execution_count": 31,
   "id": "c1cbd5d2",
   "metadata": {},
   "outputs": [],
   "source": [
    "from sklearn.model_selection import train_test_split\n",
    "from sklearn import preprocessing\n",
    "from sklearn.preprocessing import MinMaxScaler \n",
    "from sklearn.model_selection import cross_val_score\n",
    "\n"
   ]
  },
  {
   "cell_type": "code",
   "execution_count": 32,
   "id": "bd89faa6",
   "metadata": {},
   "outputs": [],
   "source": [
    "Y = df['Group'].values\n",
    "X = df[['M/F', 'Age', 'EDUC', 'SES', 'MMSE', 'eTIV', 'nWBV', 'ASF']] \n"
   ]
  },
  {
   "cell_type": "code",
   "execution_count": 33,
   "id": "56349e9d",
   "metadata": {},
   "outputs": [],
   "source": [
    "X_trainval, X_test, Y_trainval, Y_test = train_test_split(\n",
    "    X, Y, random_state=0)\n",
    "\n"
   ]
  },
  {
   "cell_type": "code",
   "execution_count": 34,
   "id": "09f26cc7",
   "metadata": {},
   "outputs": [],
   "source": [
    "scaler = MinMaxScaler().fit(X_trainval)\n",
    "X_trainval_scaled = scaler.transform(X_trainval)\n",
    "X_test_scaled = scaler.transform(X_test)\n",
    "\n",
    "\n"
   ]
  },
  {
   "cell_type": "code",
   "execution_count": 35,
   "id": "db008f8b",
   "metadata": {},
   "outputs": [],
   "source": [
    "Y = df_dropna['Group'].values \n",
    "X = df_dropna[['M/F', 'Age', 'EDUC', 'SES', 'MMSE', 'eTIV', 'nWBV', 'ASF']] # Features we use\n",
    "\n",
    "X_trainval_dna, X_test_dna, Y_trainval_dna, Y_test_dna = train_test_split(\n",
    "    X, Y, random_state=0)\n",
    "\n",
    "scaler = MinMaxScaler().fit(X_trainval_dna)\n",
    "X_trainval_scaled_dna = scaler.transform(X_trainval_dna)\n",
    "X_test_scaled_dna = scaler.transform(X_test_dna)\n",
    "\n"
   ]
  },
  {
   "cell_type": "code",
   "execution_count": 36,
   "id": "b8892367",
   "metadata": {},
   "outputs": [],
   "source": [
    "\n",
    "from sklearn.linear_model import LogisticRegression\n",
    "from sklearn.svm import SVC\n",
    "from sklearn.tree import DecisionTreeClassifier\n",
    "from sklearn.ensemble import RandomForestClassifier\n",
    "from sklearn.ensemble import AdaBoostClassifier\n",
    "from sklearn.metrics import confusion_matrix, accuracy_score, recall_score, roc_curve, auc\n",
    "\n"
   ]
  },
  {
   "cell_type": "code",
   "execution_count": 37,
   "id": "a9b14f90",
   "metadata": {},
   "outputs": [],
   "source": [
    "acc = []"
   ]
  },
  {
   "cell_type": "code",
   "execution_count": 38,
   "id": "1d7fe69e",
   "metadata": {},
   "outputs": [],
   "source": [
    "import numpy as np\n",
    "from sklearn.model_selection import cross_val_score\n",
    "from sklearn.metrics import recall_score, roc_curve, auc\n",
    "from sklearn.svm import SVC\n"
   ]
  },
  {
   "cell_type": "code",
   "execution_count": 39,
   "id": "4f10c670",
   "metadata": {},
   "outputs": [],
   "source": [
    "kfolds = 5 "
   ]
  },
  {
   "cell_type": "code",
   "execution_count": 40,
   "id": "f8a60f44",
   "metadata": {},
   "outputs": [],
   "source": [
    "best_score = 0\n"
   ]
  },
  {
   "cell_type": "code",
   "execution_count": 41,
   "id": "06a92ce3",
   "metadata": {},
   "outputs": [],
   "source": [
    "\n",
    "for c_parameter in [0.001, 0.01, 0.1, 1, 10, 100, 1000]:\n",
    "    for gamma_parameter in [0.001, 0.01, 0.1, 1, 10, 100, 1000]:\n",
    "        for k_parameter in ['rbf', 'linear', 'poly', 'sigmoid']:\n",
    "            svmModel = SVC(kernel=k_parameter, C=c_parameter, gamma=gamma_parameter)\n",
    "            scores = cross_val_score(svmModel, X_trainval_scaled, Y_trainval, cv=kfolds, scoring='accuracy')\n",
    "            score = np.mean(scores)\n",
    "            if score > best_score:\n",
    "                best_score = score\n",
    "                best_parameter_c = c_parameter\n",
    "                best_parameter_gamma = gamma_parameter\n",
    "                best_parameter_k = k_parameter\n",
    "\n",
    "SelectedSVMmodel = SVC(C=best_parameter_c, gamma=best_parameter_gamma, kernel=best_parameter_k).fit(X_trainval_scaled, Y_trainval)"
   ]
  },
  {
   "cell_type": "code",
   "execution_count": 42,
   "id": "bc905409",
   "metadata": {},
   "outputs": [],
   "source": [
    "test_score = SelectedSVMmodel.score(X_test_scaled, Y_test)\n",
    "PredictedOutput = SelectedSVMmodel.predict(X_test_scaled)\n",
    "test_recall = recall_score(Y_test, PredictedOutput, pos_label=1)\n",
    "fpr, tpr, thresholds = roc_curve(Y_test, PredictedOutput, pos_label=1)\n",
    "test_auc = auc(fpr, tpr)\n",
    "\n"
   ]
  },
  {
   "cell_type": "code",
   "execution_count": 43,
   "id": "506547dd",
   "metadata": {},
   "outputs": [
    {
     "name": "stdout",
     "output_type": "stream",
     "text": [
      "Best parameter for C is: 100\n",
      "Best parameter for gamma is: 0.1\n",
      "Best parameter for the kernel is: rbf\n",
      "Test accuracy with the best parameters is 0.8157894736842105\n",
      "Test recall with the best parameters is 0.7\n",
      "Test AUC with the best parameters is 0.8222222222222222\n"
     ]
    }
   ],
   "source": [
    "print(\"Best parameter for C is:\", best_parameter_c)\n",
    "print(\"Best parameter for gamma is:\", best_parameter_gamma)\n",
    "print(\"Best parameter for the kernel is:\", best_parameter_k)\n",
    "print(\"Test accuracy with the best parameters is\", test_score)\n",
    "print(\"Test recall with the best parameters is\", test_recall)\n",
    "print(\"Test AUC with the best parameters is\", test_auc)\n"
   ]
  },
  {
   "cell_type": "code",
   "execution_count": 44,
   "id": "64af6190",
   "metadata": {},
   "outputs": [
    {
     "name": "stdout",
     "output_type": "stream",
     "text": [
      "0.8222222222222222\n"
     ]
    }
   ],
   "source": [
    "m = 'SVM'\n",
    "acc.append([m, test_score, test_recall, test_auc, fpr, tpr, thresholds])\n",
    "print(test_auc)\n"
   ]
  },
  {
   "cell_type": "code",
   "execution_count": 45,
   "id": "48fa3ada",
   "metadata": {},
   "outputs": [
    {
     "name": "stdout",
     "output_type": "stream",
     "text": [
      "Collecting xgboost\n",
      "  Downloading xgboost-2.0.2-py3-none-win_amd64.whl (99.8 MB)\n",
      "Requirement already satisfied: scipy in c:\\programdata\\anaconda3\\lib\\site-packages (from xgboost) (1.7.1)\n",
      "Requirement already satisfied: numpy in c:\\programdata\\anaconda3\\lib\\site-packages (from xgboost) (1.20.3)\n",
      "Installing collected packages: xgboost\n",
      "Successfully installed xgboost-2.0.2\n"
     ]
    }
   ],
   "source": [
    "!pip install xgboost\n"
   ]
  },
  {
   "cell_type": "code",
   "execution_count": 48,
   "id": "2f73fa03",
   "metadata": {},
   "outputs": [],
   "source": [
    "def warn(*args, **kwargs):\n",
    " pass\n",
    "import warnings\n",
    "warnings.warn = warn\n",
    "import numpy as np \n",
    "import pandas as pd \n",
    "import xgboost as xgb\n",
    "from xgboost import XGBClassifier\n",
    "from sklearn.model_selection import train_test_split, cross_val_score\n",
    "from sklearn.metrics import confusion_matrix\n",
    "from scipy.stats import uniform, randint\n",
    "import matplotlib.pylab as plt\n",
    "import seaborn as sns\n",
    "import os\n",
    "for dirname, _, filenames in os.walk('/kaggle/input'):\n",
    " for filename in filenames:\n",
    "    print(os.path.join(dirname, filename))\n"
   ]
  },
  {
   "cell_type": "code",
   "execution_count": 52,
   "id": "1faf8333",
   "metadata": {},
   "outputs": [],
   "source": [
    "data=pd.read_csv(r\"C:\\Users\\student.MCC\\Downloads\\oasis_longitudinal.csv\")"
   ]
  },
  {
   "cell_type": "code",
   "execution_count": 53,
   "id": "22690f90",
   "metadata": {},
   "outputs": [
    {
     "name": "stdout",
     "output_type": "stream",
     "text": [
      "<class 'pandas.core.frame.DataFrame'>\n",
      "RangeIndex: 373 entries, 0 to 372\n",
      "Data columns (total 15 columns):\n",
      " #   Column      Non-Null Count  Dtype  \n",
      "---  ------      --------------  -----  \n",
      " 0   Subject ID  373 non-null    object \n",
      " 1   MRI ID      373 non-null    object \n",
      " 2   Group       373 non-null    object \n",
      " 3   Visit       373 non-null    int64  \n",
      " 4   MR Delay    373 non-null    int64  \n",
      " 5   M/F         373 non-null    object \n",
      " 6   Hand        373 non-null    object \n",
      " 7   Age         373 non-null    int64  \n",
      " 8   EDUC        373 non-null    int64  \n",
      " 9   SES         354 non-null    float64\n",
      " 10  MMSE        371 non-null    float64\n",
      " 11  CDR         373 non-null    float64\n",
      " 12  eTIV        373 non-null    int64  \n",
      " 13  nWBV        373 non-null    float64\n",
      " 14  ASF         373 non-null    float64\n",
      "dtypes: float64(5), int64(5), object(5)\n",
      "memory usage: 43.8+ KB\n"
     ]
    }
   ],
   "source": [
    "data.info()\n"
   ]
  },
  {
   "cell_type": "code",
   "execution_count": 54,
   "id": "78f0d29c",
   "metadata": {},
   "outputs": [],
   "source": [
    "data.dropna(inplace=True)"
   ]
  },
  {
   "cell_type": "code",
   "execution_count": 55,
   "id": "d8cf3932",
   "metadata": {},
   "outputs": [
    {
     "data": {
      "text/html": [
       "<div>\n",
       "<style scoped>\n",
       "    .dataframe tbody tr th:only-of-type {\n",
       "        vertical-align: middle;\n",
       "    }\n",
       "\n",
       "    .dataframe tbody tr th {\n",
       "        vertical-align: top;\n",
       "    }\n",
       "\n",
       "    .dataframe thead th {\n",
       "        text-align: right;\n",
       "    }\n",
       "</style>\n",
       "<table border=\"1\" class=\"dataframe\">\n",
       "  <thead>\n",
       "    <tr style=\"text-align: right;\">\n",
       "      <th></th>\n",
       "      <th>Subject ID</th>\n",
       "      <th>MRI ID</th>\n",
       "      <th>Group</th>\n",
       "      <th>Visit</th>\n",
       "      <th>MR Delay</th>\n",
       "      <th>M/F</th>\n",
       "      <th>Hand</th>\n",
       "      <th>Age</th>\n",
       "      <th>EDUC</th>\n",
       "      <th>SES</th>\n",
       "      <th>MMSE</th>\n",
       "      <th>CDR</th>\n",
       "      <th>eTIV</th>\n",
       "      <th>nWBV</th>\n",
       "      <th>ASF</th>\n",
       "    </tr>\n",
       "  </thead>\n",
       "  <tbody>\n",
       "    <tr>\n",
       "      <th>368</th>\n",
       "      <td>OAS2_0185</td>\n",
       "      <td>OAS2_0185_MR2</td>\n",
       "      <td>Demented</td>\n",
       "      <td>2</td>\n",
       "      <td>842</td>\n",
       "      <td>M</td>\n",
       "      <td>R</td>\n",
       "      <td>82</td>\n",
       "      <td>16</td>\n",
       "      <td>1.0</td>\n",
       "      <td>28.0</td>\n",
       "      <td>0.5</td>\n",
       "      <td>1693</td>\n",
       "      <td>0.694</td>\n",
       "      <td>1.037</td>\n",
       "    </tr>\n",
       "    <tr>\n",
       "      <th>369</th>\n",
       "      <td>OAS2_0185</td>\n",
       "      <td>OAS2_0185_MR3</td>\n",
       "      <td>Demented</td>\n",
       "      <td>3</td>\n",
       "      <td>2297</td>\n",
       "      <td>M</td>\n",
       "      <td>R</td>\n",
       "      <td>86</td>\n",
       "      <td>16</td>\n",
       "      <td>1.0</td>\n",
       "      <td>26.0</td>\n",
       "      <td>0.5</td>\n",
       "      <td>1688</td>\n",
       "      <td>0.675</td>\n",
       "      <td>1.040</td>\n",
       "    </tr>\n",
       "    <tr>\n",
       "      <th>370</th>\n",
       "      <td>OAS2_0186</td>\n",
       "      <td>OAS2_0186_MR1</td>\n",
       "      <td>Nondemented</td>\n",
       "      <td>1</td>\n",
       "      <td>0</td>\n",
       "      <td>F</td>\n",
       "      <td>R</td>\n",
       "      <td>61</td>\n",
       "      <td>13</td>\n",
       "      <td>2.0</td>\n",
       "      <td>30.0</td>\n",
       "      <td>0.0</td>\n",
       "      <td>1319</td>\n",
       "      <td>0.801</td>\n",
       "      <td>1.331</td>\n",
       "    </tr>\n",
       "    <tr>\n",
       "      <th>371</th>\n",
       "      <td>OAS2_0186</td>\n",
       "      <td>OAS2_0186_MR2</td>\n",
       "      <td>Nondemented</td>\n",
       "      <td>2</td>\n",
       "      <td>763</td>\n",
       "      <td>F</td>\n",
       "      <td>R</td>\n",
       "      <td>63</td>\n",
       "      <td>13</td>\n",
       "      <td>2.0</td>\n",
       "      <td>30.0</td>\n",
       "      <td>0.0</td>\n",
       "      <td>1327</td>\n",
       "      <td>0.796</td>\n",
       "      <td>1.323</td>\n",
       "    </tr>\n",
       "    <tr>\n",
       "      <th>372</th>\n",
       "      <td>OAS2_0186</td>\n",
       "      <td>OAS2_0186_MR3</td>\n",
       "      <td>Nondemented</td>\n",
       "      <td>3</td>\n",
       "      <td>1608</td>\n",
       "      <td>F</td>\n",
       "      <td>R</td>\n",
       "      <td>65</td>\n",
       "      <td>13</td>\n",
       "      <td>2.0</td>\n",
       "      <td>30.0</td>\n",
       "      <td>0.0</td>\n",
       "      <td>1333</td>\n",
       "      <td>0.801</td>\n",
       "      <td>1.317</td>\n",
       "    </tr>\n",
       "  </tbody>\n",
       "</table>\n",
       "</div>"
      ],
      "text/plain": [
       "    Subject ID         MRI ID        Group  Visit  MR Delay M/F Hand  Age  \\\n",
       "368  OAS2_0185  OAS2_0185_MR2     Demented      2       842   M    R   82   \n",
       "369  OAS2_0185  OAS2_0185_MR3     Demented      3      2297   M    R   86   \n",
       "370  OAS2_0186  OAS2_0186_MR1  Nondemented      1         0   F    R   61   \n",
       "371  OAS2_0186  OAS2_0186_MR2  Nondemented      2       763   F    R   63   \n",
       "372  OAS2_0186  OAS2_0186_MR3  Nondemented      3      1608   F    R   65   \n",
       "\n",
       "     EDUC  SES  MMSE  CDR  eTIV   nWBV    ASF  \n",
       "368    16  1.0  28.0  0.5  1693  0.694  1.037  \n",
       "369    16  1.0  26.0  0.5  1688  0.675  1.040  \n",
       "370    13  2.0  30.0  0.0  1319  0.801  1.331  \n",
       "371    13  2.0  30.0  0.0  1327  0.796  1.323  \n",
       "372    13  2.0  30.0  0.0  1333  0.801  1.317  "
      ]
     },
     "execution_count": 55,
     "metadata": {},
     "output_type": "execute_result"
    }
   ],
   "source": [
    "data.tail()"
   ]
  },
  {
   "cell_type": "code",
   "execution_count": 56,
   "id": "84f6f8d9",
   "metadata": {},
   "outputs": [],
   "source": [
    "orig_data = data.copy()\n",
    "data = data[data[\"Group\"]!= \"Converted\"]\n",
    "data['Group'].replace(['Nondemented', 'Demented'],[0, 1], inplace=True)\n",
    "data['M/F'].replace(['M', 'F'],[0, 1], inplace=True)"
   ]
  },
  {
   "cell_type": "code",
   "execution_count": 57,
   "id": "912f31f8",
   "metadata": {},
   "outputs": [
    {
     "name": "stdout",
     "output_type": "stream",
     "text": [
      "<class 'pandas.core.frame.DataFrame'>\n",
      "Int64Index: 317 entries, 0 to 372\n",
      "Data columns (total 15 columns):\n",
      " #   Column      Non-Null Count  Dtype  \n",
      "---  ------      --------------  -----  \n",
      " 0   Subject ID  317 non-null    object \n",
      " 1   MRI ID      317 non-null    object \n",
      " 2   Group       317 non-null    int64  \n",
      " 3   Visit       317 non-null    int64  \n",
      " 4   MR Delay    317 non-null    int64  \n",
      " 5   M/F         317 non-null    int64  \n",
      " 6   Hand        317 non-null    object \n",
      " 7   Age         317 non-null    int64  \n",
      " 8   EDUC        317 non-null    int64  \n",
      " 9   SES         317 non-null    float64\n",
      " 10  MMSE        317 non-null    float64\n",
      " 11  CDR         317 non-null    float64\n",
      " 12  eTIV        317 non-null    int64  \n",
      " 13  nWBV        317 non-null    float64\n",
      " 14  ASF         317 non-null    float64\n",
      "dtypes: float64(5), int64(7), object(3)\n",
      "memory usage: 39.6+ KB\n"
     ]
    },
    {
     "data": {
      "text/html": [
       "<div>\n",
       "<style scoped>\n",
       "    .dataframe tbody tr th:only-of-type {\n",
       "        vertical-align: middle;\n",
       "    }\n",
       "\n",
       "    .dataframe tbody tr th {\n",
       "        vertical-align: top;\n",
       "    }\n",
       "\n",
       "    .dataframe thead th {\n",
       "        text-align: right;\n",
       "    }\n",
       "</style>\n",
       "<table border=\"1\" class=\"dataframe\">\n",
       "  <thead>\n",
       "    <tr style=\"text-align: right;\">\n",
       "      <th></th>\n",
       "      <th>Subject ID</th>\n",
       "      <th>MRI ID</th>\n",
       "      <th>Group</th>\n",
       "      <th>Visit</th>\n",
       "      <th>MR Delay</th>\n",
       "      <th>M/F</th>\n",
       "      <th>Hand</th>\n",
       "      <th>Age</th>\n",
       "      <th>EDUC</th>\n",
       "      <th>SES</th>\n",
       "      <th>MMSE</th>\n",
       "      <th>CDR</th>\n",
       "      <th>eTIV</th>\n",
       "      <th>nWBV</th>\n",
       "      <th>ASF</th>\n",
       "    </tr>\n",
       "  </thead>\n",
       "  <tbody>\n",
       "    <tr>\n",
       "      <th>0</th>\n",
       "      <td>OAS2_0001</td>\n",
       "      <td>OAS2_0001_MR1</td>\n",
       "      <td>0</td>\n",
       "      <td>1</td>\n",
       "      <td>0</td>\n",
       "      <td>0</td>\n",
       "      <td>R</td>\n",
       "      <td>87</td>\n",
       "      <td>14</td>\n",
       "      <td>2.0</td>\n",
       "      <td>27.0</td>\n",
       "      <td>0.0</td>\n",
       "      <td>1987</td>\n",
       "      <td>0.696</td>\n",
       "      <td>0.883</td>\n",
       "    </tr>\n",
       "    <tr>\n",
       "      <th>1</th>\n",
       "      <td>OAS2_0001</td>\n",
       "      <td>OAS2_0001_MR2</td>\n",
       "      <td>0</td>\n",
       "      <td>2</td>\n",
       "      <td>457</td>\n",
       "      <td>0</td>\n",
       "      <td>R</td>\n",
       "      <td>88</td>\n",
       "      <td>14</td>\n",
       "      <td>2.0</td>\n",
       "      <td>30.0</td>\n",
       "      <td>0.0</td>\n",
       "      <td>2004</td>\n",
       "      <td>0.681</td>\n",
       "      <td>0.876</td>\n",
       "    </tr>\n",
       "    <tr>\n",
       "      <th>5</th>\n",
       "      <td>OAS2_0004</td>\n",
       "      <td>OAS2_0004_MR1</td>\n",
       "      <td>0</td>\n",
       "      <td>1</td>\n",
       "      <td>0</td>\n",
       "      <td>1</td>\n",
       "      <td>R</td>\n",
       "      <td>88</td>\n",
       "      <td>18</td>\n",
       "      <td>3.0</td>\n",
       "      <td>28.0</td>\n",
       "      <td>0.0</td>\n",
       "      <td>1215</td>\n",
       "      <td>0.710</td>\n",
       "      <td>1.444</td>\n",
       "    </tr>\n",
       "    <tr>\n",
       "      <th>6</th>\n",
       "      <td>OAS2_0004</td>\n",
       "      <td>OAS2_0004_MR2</td>\n",
       "      <td>0</td>\n",
       "      <td>2</td>\n",
       "      <td>538</td>\n",
       "      <td>1</td>\n",
       "      <td>R</td>\n",
       "      <td>90</td>\n",
       "      <td>18</td>\n",
       "      <td>3.0</td>\n",
       "      <td>27.0</td>\n",
       "      <td>0.0</td>\n",
       "      <td>1200</td>\n",
       "      <td>0.718</td>\n",
       "      <td>1.462</td>\n",
       "    </tr>\n",
       "    <tr>\n",
       "      <th>7</th>\n",
       "      <td>OAS2_0005</td>\n",
       "      <td>OAS2_0005_MR1</td>\n",
       "      <td>0</td>\n",
       "      <td>1</td>\n",
       "      <td>0</td>\n",
       "      <td>0</td>\n",
       "      <td>R</td>\n",
       "      <td>80</td>\n",
       "      <td>12</td>\n",
       "      <td>4.0</td>\n",
       "      <td>28.0</td>\n",
       "      <td>0.0</td>\n",
       "      <td>1689</td>\n",
       "      <td>0.712</td>\n",
       "      <td>1.039</td>\n",
       "    </tr>\n",
       "  </tbody>\n",
       "</table>\n",
       "</div>"
      ],
      "text/plain": [
       "  Subject ID         MRI ID  Group  Visit  MR Delay  M/F Hand  Age  EDUC  SES  \\\n",
       "0  OAS2_0001  OAS2_0001_MR1      0      1         0    0    R   87    14  2.0   \n",
       "1  OAS2_0001  OAS2_0001_MR2      0      2       457    0    R   88    14  2.0   \n",
       "5  OAS2_0004  OAS2_0004_MR1      0      1         0    1    R   88    18  3.0   \n",
       "6  OAS2_0004  OAS2_0004_MR2      0      2       538    1    R   90    18  3.0   \n",
       "7  OAS2_0005  OAS2_0005_MR1      0      1         0    0    R   80    12  4.0   \n",
       "\n",
       "   MMSE  CDR  eTIV   nWBV    ASF  \n",
       "0  27.0  0.0  1987  0.696  0.883  \n",
       "1  30.0  0.0  2004  0.681  0.876  \n",
       "5  28.0  0.0  1215  0.710  1.444  \n",
       "6  27.0  0.0  1200  0.718  1.462  \n",
       "7  28.0  0.0  1689  0.712  1.039  "
      ]
     },
     "execution_count": 57,
     "metadata": {},
     "output_type": "execute_result"
    }
   ],
   "source": [
    "data.info()\n",
    "data.head()"
   ]
  },
  {
   "cell_type": "code",
   "execution_count": 58,
   "id": "9f889513",
   "metadata": {},
   "outputs": [
    {
     "data": {
      "text/html": [
       "<div>\n",
       "<style scoped>\n",
       "    .dataframe tbody tr th:only-of-type {\n",
       "        vertical-align: middle;\n",
       "    }\n",
       "\n",
       "    .dataframe tbody tr th {\n",
       "        vertical-align: top;\n",
       "    }\n",
       "\n",
       "    .dataframe thead th {\n",
       "        text-align: right;\n",
       "    }\n",
       "</style>\n",
       "<table border=\"1\" class=\"dataframe\">\n",
       "  <thead>\n",
       "    <tr style=\"text-align: right;\">\n",
       "      <th></th>\n",
       "      <th>Age</th>\n",
       "      <th>EDUC</th>\n",
       "      <th>SES</th>\n",
       "      <th>MMSE</th>\n",
       "      <th>eTIV</th>\n",
       "      <th>ASF</th>\n",
       "    </tr>\n",
       "  </thead>\n",
       "  <tbody>\n",
       "    <tr>\n",
       "      <th>0</th>\n",
       "      <td>87</td>\n",
       "      <td>14</td>\n",
       "      <td>2.0</td>\n",
       "      <td>27.0</td>\n",
       "      <td>1987</td>\n",
       "      <td>0.883</td>\n",
       "    </tr>\n",
       "    <tr>\n",
       "      <th>1</th>\n",
       "      <td>88</td>\n",
       "      <td>14</td>\n",
       "      <td>2.0</td>\n",
       "      <td>30.0</td>\n",
       "      <td>2004</td>\n",
       "      <td>0.876</td>\n",
       "    </tr>\n",
       "    <tr>\n",
       "      <th>5</th>\n",
       "      <td>88</td>\n",
       "      <td>18</td>\n",
       "      <td>3.0</td>\n",
       "      <td>28.0</td>\n",
       "      <td>1215</td>\n",
       "      <td>1.444</td>\n",
       "    </tr>\n",
       "    <tr>\n",
       "      <th>6</th>\n",
       "      <td>90</td>\n",
       "      <td>18</td>\n",
       "      <td>3.0</td>\n",
       "      <td>27.0</td>\n",
       "      <td>1200</td>\n",
       "      <td>1.462</td>\n",
       "    </tr>\n",
       "    <tr>\n",
       "      <th>7</th>\n",
       "      <td>80</td>\n",
       "      <td>12</td>\n",
       "      <td>4.0</td>\n",
       "      <td>28.0</td>\n",
       "      <td>1689</td>\n",
       "      <td>1.039</td>\n",
       "    </tr>\n",
       "    <tr>\n",
       "      <th>...</th>\n",
       "      <td>...</td>\n",
       "      <td>...</td>\n",
       "      <td>...</td>\n",
       "      <td>...</td>\n",
       "      <td>...</td>\n",
       "      <td>...</td>\n",
       "    </tr>\n",
       "    <tr>\n",
       "      <th>368</th>\n",
       "      <td>82</td>\n",
       "      <td>16</td>\n",
       "      <td>1.0</td>\n",
       "      <td>28.0</td>\n",
       "      <td>1693</td>\n",
       "      <td>1.037</td>\n",
       "    </tr>\n",
       "    <tr>\n",
       "      <th>369</th>\n",
       "      <td>86</td>\n",
       "      <td>16</td>\n",
       "      <td>1.0</td>\n",
       "      <td>26.0</td>\n",
       "      <td>1688</td>\n",
       "      <td>1.040</td>\n",
       "    </tr>\n",
       "    <tr>\n",
       "      <th>370</th>\n",
       "      <td>61</td>\n",
       "      <td>13</td>\n",
       "      <td>2.0</td>\n",
       "      <td>30.0</td>\n",
       "      <td>1319</td>\n",
       "      <td>1.331</td>\n",
       "    </tr>\n",
       "    <tr>\n",
       "      <th>371</th>\n",
       "      <td>63</td>\n",
       "      <td>13</td>\n",
       "      <td>2.0</td>\n",
       "      <td>30.0</td>\n",
       "      <td>1327</td>\n",
       "      <td>1.323</td>\n",
       "    </tr>\n",
       "    <tr>\n",
       "      <th>372</th>\n",
       "      <td>65</td>\n",
       "      <td>13</td>\n",
       "      <td>2.0</td>\n",
       "      <td>30.0</td>\n",
       "      <td>1333</td>\n",
       "      <td>1.317</td>\n",
       "    </tr>\n",
       "  </tbody>\n",
       "</table>\n",
       "<p>317 rows × 6 columns</p>\n",
       "</div>"
      ],
      "text/plain": [
       "     Age  EDUC  SES  MMSE  eTIV    ASF\n",
       "0     87    14  2.0  27.0  1987  0.883\n",
       "1     88    14  2.0  30.0  2004  0.876\n",
       "5     88    18  3.0  28.0  1215  1.444\n",
       "6     90    18  3.0  27.0  1200  1.462\n",
       "7     80    12  4.0  28.0  1689  1.039\n",
       "..   ...   ...  ...   ...   ...    ...\n",
       "368   82    16  1.0  28.0  1693  1.037\n",
       "369   86    16  1.0  26.0  1688  1.040\n",
       "370   61    13  2.0  30.0  1319  1.331\n",
       "371   63    13  2.0  30.0  1327  1.323\n",
       "372   65    13  2.0  30.0  1333  1.317\n",
       "\n",
       "[317 rows x 6 columns]"
      ]
     },
     "execution_count": 58,
     "metadata": {},
     "output_type": "execute_result"
    }
   ],
   "source": [
    "data.loc[:,['Age','EDUC','SES','MMSE', 'eTIV','ASF']]\n"
   ]
  },
  {
   "cell_type": "code",
   "execution_count": 59,
   "id": "2aed90bf",
   "metadata": {},
   "outputs": [],
   "source": [
    "def scale(df):\n",
    "    dfs = df.copy()\n",
    "    columns = ['Age','EDUC','SES','MMSE', 'eTIV','ASF']\n",
    "    for feature in columns:\n",
    "        max_val = dfs[feature].max()\n",
    "        min_val = dfs[feature].min()\n",
    "        scaled = (dfs[feature] - min_val)/(max_val - min_val)\n",
    "        dfs[feature] = scaled\n",
    "    return dfs    "
   ]
  },
  {
   "cell_type": "code",
   "execution_count": 60,
   "id": "ddee7e2e",
   "metadata": {},
   "outputs": [
    {
     "data": {
      "text/html": [
       "<div>\n",
       "<style scoped>\n",
       "    .dataframe tbody tr th:only-of-type {\n",
       "        vertical-align: middle;\n",
       "    }\n",
       "\n",
       "    .dataframe tbody tr th {\n",
       "        vertical-align: top;\n",
       "    }\n",
       "\n",
       "    .dataframe thead th {\n",
       "        text-align: right;\n",
       "    }\n",
       "</style>\n",
       "<table border=\"1\" class=\"dataframe\">\n",
       "  <thead>\n",
       "    <tr style=\"text-align: right;\">\n",
       "      <th></th>\n",
       "      <th>Subject ID</th>\n",
       "      <th>MRI ID</th>\n",
       "      <th>Group</th>\n",
       "      <th>Visit</th>\n",
       "      <th>MR Delay</th>\n",
       "      <th>M/F</th>\n",
       "      <th>Hand</th>\n",
       "      <th>Age</th>\n",
       "      <th>EDUC</th>\n",
       "      <th>SES</th>\n",
       "      <th>MMSE</th>\n",
       "      <th>CDR</th>\n",
       "      <th>eTIV</th>\n",
       "      <th>nWBV</th>\n",
       "      <th>ASF</th>\n",
       "    </tr>\n",
       "  </thead>\n",
       "  <tbody>\n",
       "    <tr>\n",
       "      <th>0</th>\n",
       "      <td>OAS2_0001</td>\n",
       "      <td>OAS2_0001_MR1</td>\n",
       "      <td>0</td>\n",
       "      <td>1</td>\n",
       "      <td>0</td>\n",
       "      <td>0</td>\n",
       "      <td>R</td>\n",
       "      <td>0.710526</td>\n",
       "      <td>0.470588</td>\n",
       "      <td>0.25</td>\n",
       "      <td>0.884615</td>\n",
       "      <td>0.0</td>\n",
       "      <td>0.981069</td>\n",
       "      <td>0.696</td>\n",
       "      <td>0.009845</td>\n",
       "    </tr>\n",
       "    <tr>\n",
       "      <th>1</th>\n",
       "      <td>OAS2_0001</td>\n",
       "      <td>OAS2_0001_MR2</td>\n",
       "      <td>0</td>\n",
       "      <td>2</td>\n",
       "      <td>457</td>\n",
       "      <td>0</td>\n",
       "      <td>R</td>\n",
       "      <td>0.736842</td>\n",
       "      <td>0.470588</td>\n",
       "      <td>0.25</td>\n",
       "      <td>1.000000</td>\n",
       "      <td>0.0</td>\n",
       "      <td>1.000000</td>\n",
       "      <td>0.681</td>\n",
       "      <td>0.000000</td>\n",
       "    </tr>\n",
       "    <tr>\n",
       "      <th>5</th>\n",
       "      <td>OAS2_0004</td>\n",
       "      <td>OAS2_0004_MR1</td>\n",
       "      <td>0</td>\n",
       "      <td>1</td>\n",
       "      <td>0</td>\n",
       "      <td>1</td>\n",
       "      <td>R</td>\n",
       "      <td>0.736842</td>\n",
       "      <td>0.705882</td>\n",
       "      <td>0.50</td>\n",
       "      <td>0.923077</td>\n",
       "      <td>0.0</td>\n",
       "      <td>0.121381</td>\n",
       "      <td>0.710</td>\n",
       "      <td>0.798875</td>\n",
       "    </tr>\n",
       "    <tr>\n",
       "      <th>6</th>\n",
       "      <td>OAS2_0004</td>\n",
       "      <td>OAS2_0004_MR2</td>\n",
       "      <td>0</td>\n",
       "      <td>2</td>\n",
       "      <td>538</td>\n",
       "      <td>1</td>\n",
       "      <td>R</td>\n",
       "      <td>0.789474</td>\n",
       "      <td>0.705882</td>\n",
       "      <td>0.50</td>\n",
       "      <td>0.884615</td>\n",
       "      <td>0.0</td>\n",
       "      <td>0.104677</td>\n",
       "      <td>0.718</td>\n",
       "      <td>0.824191</td>\n",
       "    </tr>\n",
       "    <tr>\n",
       "      <th>7</th>\n",
       "      <td>OAS2_0005</td>\n",
       "      <td>OAS2_0005_MR1</td>\n",
       "      <td>0</td>\n",
       "      <td>1</td>\n",
       "      <td>0</td>\n",
       "      <td>0</td>\n",
       "      <td>R</td>\n",
       "      <td>0.526316</td>\n",
       "      <td>0.352941</td>\n",
       "      <td>0.75</td>\n",
       "      <td>0.923077</td>\n",
       "      <td>0.0</td>\n",
       "      <td>0.649220</td>\n",
       "      <td>0.712</td>\n",
       "      <td>0.229255</td>\n",
       "    </tr>\n",
       "  </tbody>\n",
       "</table>\n",
       "</div>"
      ],
      "text/plain": [
       "  Subject ID         MRI ID  Group  Visit  MR Delay  M/F Hand       Age  \\\n",
       "0  OAS2_0001  OAS2_0001_MR1      0      1         0    0    R  0.710526   \n",
       "1  OAS2_0001  OAS2_0001_MR2      0      2       457    0    R  0.736842   \n",
       "5  OAS2_0004  OAS2_0004_MR1      0      1         0    1    R  0.736842   \n",
       "6  OAS2_0004  OAS2_0004_MR2      0      2       538    1    R  0.789474   \n",
       "7  OAS2_0005  OAS2_0005_MR1      0      1         0    0    R  0.526316   \n",
       "\n",
       "       EDUC   SES      MMSE  CDR      eTIV   nWBV       ASF  \n",
       "0  0.470588  0.25  0.884615  0.0  0.981069  0.696  0.009845  \n",
       "1  0.470588  0.25  1.000000  0.0  1.000000  0.681  0.000000  \n",
       "5  0.705882  0.50  0.923077  0.0  0.121381  0.710  0.798875  \n",
       "6  0.705882  0.50  0.884615  0.0  0.104677  0.718  0.824191  \n",
       "7  0.352941  0.75  0.923077  0.0  0.649220  0.712  0.229255  "
      ]
     },
     "execution_count": 60,
     "metadata": {},
     "output_type": "execute_result"
    }
   ],
   "source": [
    "scaled_data = scale(data)\n",
    "scaled_data .head()"
   ]
  },
  {
   "cell_type": "code",
   "execution_count": 61,
   "id": "1d4452df",
   "metadata": {},
   "outputs": [
    {
     "data": {
      "text/plain": [
       "((253, 14), (64, 14), (253,), (64,))"
      ]
     },
     "execution_count": 61,
     "metadata": {},
     "output_type": "execute_result"
    }
   ],
   "source": [
    "y = scaled_data['Group']\n",
    "x = scaled_data.drop('Group',axis=1)\n",
    "xTrain,xTest,yTrain,yTest = train_test_split(x,y,test_size=0.2,random_state=42)\n",
    "xTrain.shape, xTest.shape, yTrain.shape, yTest.shape"
   ]
  },
  {
   "cell_type": "code",
   "execution_count": 70,
   "id": "06e59e57",
   "metadata": {},
   "outputs": [
    {
     "name": "stdout",
     "output_type": "stream",
     "text": [
      "Test set accuracy: 0.747\n",
      "Confusion Matrix:\n",
      "[[ 0  1 10]\n",
      " [ 0 27  5]\n",
      " [ 0  3 29]]\n",
      "Classification Report:\n",
      "              precision    recall  f1-score   support\n",
      "\n",
      "           0       0.00      0.00      0.00        11\n",
      "           1       0.87      0.84      0.86        32\n",
      "           2       0.66      0.91      0.76        32\n",
      "\n",
      "    accuracy                           0.75        75\n",
      "   macro avg       0.51      0.58      0.54        75\n",
      "weighted avg       0.65      0.75      0.69        75\n",
      "\n"
     ]
    }
   ],
   "source": [
    "import pandas as pd\n",
    "from sklearn.model_selection import train_test_split\n",
    "from xgboost import XGBClassifier\n",
    "from sklearn.preprocessing import LabelEncoder\n",
    "from sklearn.metrics import accuracy_score, confusion_matrix, classification_report\n",
    "from sklearn.model_selection import RandomizedSearchCV\n",
    "from scipy.stats import uniform, randint\n",
    "data_path = r\"C:\\Users\\student.MCC\\Downloads\\oasis_longitudinal.csv\"\n",
    "df = pd.read_csv(data_path)\n",
    "categorical_columns = ['Subject ID', 'MRI ID', 'M/F', 'Hand']\n",
    "df = pd.get_dummies(df, columns=categorical_columns)\n",
    "label_encoder = LabelEncoder()\n",
    "df['Group'] = label_encoder.fit_transform(df['Group']\n",
    "X = df.drop(columns=['Group'])\n",
    "y = df['Group']\n",
    "xTrain, xTest, yTrain, yTest = train_test_split(X, y, test_size=0.2, random_state=42)\n",
    "params = {\n",
    "    \"colsample_bytree\": uniform(0.1, 0.3),\n",
    "    \"gamma\": uniform(0.5, 1),\n",
    "    \"learning_rate\": uniform(0.001, 0.005),\n",
    "    \"max_depth\": randint(1,3),\n",
    "    \"n_estimators\": randint(5, 10),\n",
    "    \"subsample\": uniform(0.4, 0.3)\n",
    "}\n",
    "xgb_model = XGBClassifier(objective=\"multi:softmax\", num_class=len(df['Group'].unique()),random_state=42,use_label_encoder=False,eval_metric='mlogloss')\n",
    "search = RandomizedSearchCV(xgb_model, param_distributions=params, random_state=42,n_iter=50,cv=3,verbose=0,n_jobs=1,return_train_score=True,scoring='accuracy')\n",
    "search.fit(xTrain, yTrain)\n",
    "best_model = search.best_estimator_\n",
    "yPredict = best_model.predict(xTest)\n",
    "accuracy = accuracy_score(yTest, yPredict)\n",
    "print('Test set accuracy: {:.3f}' .format(accuracy))\n",
    "conf_matrix = confusion_matrix(yTest, yPredict)\n",
    "print('Confusion Matrix:')\n",
    "print(conf_matrix)\n",
    "classification_report = classification_report(yTest, yPredict)\n",
    "print('Classification Report:')\n",
    "print(classification_report)"
   ]
  },
  {
   "cell_type": "code",
   "execution_count": 71,
   "id": "7df3199c",
   "metadata": {},
   "outputs": [],
   "source": [
    "from sklearn.linear_model import LogisticRegression\n",
    "from sklearn.svm import SVC\n",
    "from sklearn.tree import DecisionTreeClassifier\n",
    "from sklearn.ensemble import RandomForestClassifier\n",
    "from sklearn.ensemble import AdaBoostClassifier\n",
    "from sklearn.metrics import confusion_matrix, accuracy_score, recall_score, roc_curve, auc"
   ]
  },
  {
   "cell_type": "code",
   "execution_count": 72,
   "id": "fc2cae89",
   "metadata": {},
   "outputs": [],
   "source": [
    "acc = [] "
   ]
  },
  {
   "cell_type": "code",
   "execution_count": 91,
   "id": "41760b7d",
   "metadata": {},
   "outputs": [
    {
     "name": "stdout",
     "output_type": "stream",
     "text": [
      "Best accuracy on validation set is: 0.733596837944664\n",
      "Best parameter for regularization (C) is:  10\n",
      "Test accuracy with best C parameter is 0.8055555555555556\n",
      "Test recall with the best C parameter is 0.7\n",
      "Test AUC with the best C parameter is 0.7666666666666667\n"
     ]
    }
   ],
   "source": [
    "best_score=0\n",
    "kfolds=5 \n",
    "\n",
    "for c in [0.001, 0.1, 1, 10, 100]:\n",
    "    logRegModel = LogisticRegression(C=c)\n",
    "    scores = cross_val_score(logRegModel, X_trainval, Y_trainval, cv=kfolds, scoring='accuracy') # Get recall for each parameter setting\n",
    "    score = np.mean(scores)\n",
    "\n",
    "    if score > best_score:\n",
    "        best_score = score\n",
    "        best_parameters = c\n",
    "SelectedLogRegModel = LogisticRegression(C=best_parameters).fit(X_trainval_scaled, Y_trainval)\n",
    "\n",
    "test_score2 = SelectedLogRegModel.score(X_test_scaled, Y_test)\n",
    "PredictedOutput = SelectedLogRegModel.predict(X_test_scaled)\n",
    "test_recall = recall_score(Y_test, PredictedOutput, pos_label=1)\n",
    "fpr, tpr, thresholds = roc_curve(Y_test, PredictedOutput, pos_label=1)\n",
    "test_auc = auc(fpr, tpr)\n",
    "print(\"Best accuracy on validation set is:\", best_score)\n",
    "print(\"Best parameter for regularization (C) is: \", best_parameters)\n",
    "print(\"Test accuracy with best C parameter is\", test_score)\n",
    "print(\"Test recall with the best C parameter is\", test_recall)\n",
    "print(\"Test AUC with the best C parameter is\", test_auc)\n",
    "m = 'Logistic Regression (w/ imputation)'\n",
    "acc.append([m, test_score, test_recall, test_auc, fpr, tpr, thresholds])"
   ]
  },
  {
   "cell_type": "code",
   "execution_count": 92,
   "id": "47dc102a",
   "metadata": {},
   "outputs": [
    {
     "data": {
      "image/png": "[encoded data removed]",
      "text/plain": [
       "<Figure size 432x288 with 1 Axes>"
      ]
     },
     "metadata": {},
     "output_type": "display_data"
    }
   ],
   "source": [
    "import matplotlib.pyplot as plt\n",
    "\n",
    "models = ['SVM', 'XGBoost','LogisticRegression']  \n",
    "accuracies = [test_score, accuracy,test_score2]  \n",
    "\n",
    "plt.bar(models, accuracies)\n",
    "plt.ylabel('Accuracy')\n",
    "plt.title('Model Comparison')\n",
    "plt.show()\n"
   ]
  },
  {
   "cell_type": "code",
   "execution_count": 97,
   "id": "2a092449",
   "metadata": {},
   "outputs": [
    {
     "name": "stdout",
     "output_type": "stream",
     "text": [
      "SVM is best among 3 algorithms with accuracy: 0.8055555555555556\n"
     ]
    }
   ],
   "source": [
    "if(test_score>accuracy and test_score>test_score2):\n",
    "    print(\"SVM is best among 3 algorithms with accuracy:\",test_score)\n",
    "elif(accuracy>test_score and accuracy>test_score2):\n",
    "    print(\"XGB is best among 3  algorithms with accuracy:\",acccuracy)\n",
    "else:\n",
    "    print(\"LogisticRegrssion is best among 3 algorithms with accuracy:\",test_score2)"
   ]
  },
  {
   "cell_type": "code",
   "execution_count": null,
   "id": "92daa957",
   "metadata": {},
   "outputs": [],
   "source": []
  },
  {
   "cell_type": "code",
   "execution_count": null,
   "id": "cfe119a7",
   "metadata": {},
   "outputs": [],
   "source": []
  }
 ],
 "metadata": {
  "kernelspec": {
   "display_name": "Python 3 (ipykernel)",
   "language": "python",
   "name": "python3"
  },
  "language_info": {
   "codemirror_mode": {
    "name": "ipython",
    "version": 3
   },
   "file_extension": ".py",
   "mimetype": "text/x-python",
   "name": "python",
   "nbconvert_exporter": "python",
   "pygments_lexer": "ipython3",
   "version": "3.9.7"
  }
 },
 "nbformat": 4,
 "nbformat_minor": 5
}
